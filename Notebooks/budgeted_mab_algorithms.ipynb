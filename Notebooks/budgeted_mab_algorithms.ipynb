{
 "cells": [
  {
   "cell_type": "markdown",
   "metadata": {},
   "source": [
    "# Budgeted MAB Algorithms"
   ]
  },
  {
   "cell_type": "code",
   "execution_count": 1,
   "metadata": {
    "collapsed": true
   },
   "outputs": [],
   "source": [
    "%matplotlib inline\n",
    "import scipy.stats as st\n",
    "import matplotlib.pyplot as plt\n",
    "import matplotlib as mpl\n",
    "import matplotlib.cm as cm\n",
    "import math\n",
    "import numpy as np\n",
    "import pandas as pd\n",
    "import copy\n",
    "import sys\n",
    "np.set_printoptions(precision=3)\n",
    "np.set_printoptions(suppress=True)\n",
    "plt.rcParams['font.size'] = 13\n",
    "plt.style.use(\"ggplot\")\n",
    "mpl.rcParams['font.family'] = \"Osaka\""
   ]
  },
  {
   "cell_type": "markdown",
   "metadata": {},
   "source": [
    "## Common framework\n",
    "\n",
    "Consider the case that there are 3 arms: $A = \\{a_1, a_2, a_3\\}$. The total budget is given by $B(\\geq 0)$. At each round $t = 1, 2, \\ldots$, a player chooses an arm $a_t \\in A$ and gets a random reward $r_t$ and pays a random cost $c_t$. We assume rewards and costs are i.i.d. sample from the bernouli distribution $Ber(p_a), Ber(c_a)$, where \n",
    "\n",
    "$$\n",
    "(p_a, c_a) = \\begin{cases}\n",
    "(0.1, 0.4) & \\text{if $a = a_1$} \\\\\n",
    "(0.5, 0.5) & \\text{if $a = a_2$} \\\\\n",
    "(0.6, 0.8) & \\text{if $a = a_3$}\n",
    "\\end{cases}, \\hspace{1em} \\frac{p_a}{c_a} = \\begin{cases}\n",
    "0.25 & \\text{if $a = a_1$} \\\\\n",
    "1.0 & \\text{if $a = a_2$} \\\\\n",
    "0.75 & \\text{if $a = a_3$}\n",
    "\\end{cases}\n",
    "$$\n",
    "\n",
    "A player continues to pick arms until the budget runs out."
   ]
  },
  {
   "cell_type": "code",
   "execution_count": 2,
   "metadata": {
    "collapsed": true
   },
   "outputs": [],
   "source": [
    "class BMAB(object):\n",
    "    def __init__(self, n_arms, payoff_dists, cost_dists, rs=None):\n",
    "        self.n_arms = n_arms\n",
    "        self.payoff_dists = payoff_dists\n",
    "        self.cost_dists = cost_dists\n",
    "        if rs is None:\n",
    "            self.seed = np.random.randint(2**32 - 1)\n",
    "            self.rs = np.random.RandomState(self.seed)\n",
    "        else:\n",
    "            self.rs = rs\n",
    "\n",
    "    def pull_arm(self, arm):\n",
    "        if not isinstance(arm, int) or arm < 0 or self.n_arms <= arm:\n",
    "            raise ValueError(arm)\n",
    "        \n",
    "        payoff = np.sum(self.payoff_dists[arm].rvs(1, random_state=self.rs))\n",
    "        cost = np.sum(self.cost_dists[arm].rvs(1, random_state=self.rs))\n",
    "        return payoff, cost\n",
    "    "
   ]
  },
  {
   "cell_type": "code",
   "execution_count": 3,
   "metadata": {},
   "outputs": [
    {
     "name": "stdout",
     "output_type": "stream",
     "text": [
      "t=0, arm=0, reward= 0.000, cost= 0.000\n",
      "t=1, arm=0, reward= 0.000, cost= 0.000\n",
      "t=2, arm=0, reward= 1.000, cost= 0.000\n",
      "t=3, arm=0, reward= 0.000, cost= 0.000\n",
      "t=4, arm=0, reward= 0.000, cost= 0.000\n",
      "t=5, arm=0, reward= 0.000, cost= 0.000\n",
      "t=6, arm=0, reward= 0.000, cost= 1.000\n",
      "t=7, arm=0, reward= 0.000, cost= 0.000\n",
      "t=8, arm=0, reward= 1.000, cost= 0.000\n",
      "t=9, arm=0, reward= 0.000, cost= 1.000\n",
      "t=10, arm=1, reward= 0.000, cost= 1.000\n",
      "t=11, arm=1, reward= 1.000, cost= 0.000\n",
      "t=12, arm=1, reward= 0.000, cost= 1.000\n",
      "t=13, arm=1, reward= 0.000, cost= 1.000\n",
      "t=14, arm=1, reward= 0.000, cost= 0.000\n",
      "t=15, arm=1, reward= 0.000, cost= 1.000\n",
      "t=16, arm=1, reward= 1.000, cost= 1.000\n",
      "t=17, arm=1, reward= 1.000, cost= 0.000\n",
      "t=18, arm=1, reward= 1.000, cost= 0.000\n",
      "t=19, arm=1, reward= 0.000, cost= 0.000\n",
      "t=20, arm=2, reward= 0.000, cost= 1.000\n",
      "t=21, arm=2, reward= 0.000, cost= 0.000\n",
      "t=22, arm=2, reward= 0.000, cost= 1.000\n",
      "t=23, arm=2, reward= 0.000, cost= 1.000\n",
      "t=24, arm=2, reward= 0.000, cost= 1.000\n",
      "t=25, arm=2, reward= 0.000, cost= 0.000\n",
      "t=26, arm=2, reward= 0.000, cost= 0.000\n",
      "t=27, arm=2, reward= 0.000, cost= 1.000\n",
      "t=28, arm=2, reward= 0.000, cost= 1.000\n",
      "t=29, arm=2, reward= 0.000, cost= 0.000\n"
     ]
    }
   ],
   "source": [
    "n_arms = 3\n",
    "expected_payoffs = [0.1, 0.5, 0.1]\n",
    "expected_costs = [0.4, 0.5, 0.8]\n",
    "\n",
    "payoff_dists = [st.bernoulli(p) for p in expected_payoffs]\n",
    "cost_dists = [st.bernoulli(p) for p in expected_costs]\n",
    "\n",
    "bmab = BMAB(n_arms, payoff_dists, cost_dists)\n",
    "\n",
    "for i in range(30):\n",
    "    arm = i // 10\n",
    "    p, c = bmab.pull_arm(arm)\n",
    "    print(\"t={0:d}, arm={1:d}, reward={2: .3f}, cost={3: .3f}\".format(i, arm, p, c))"
   ]
  },
  {
   "cell_type": "code",
   "execution_count": 4,
   "metadata": {
    "collapsed": true
   },
   "outputs": [],
   "source": [
    "class Policy(object):\n",
    "    def __init__(self, bmab, budget, rs=None):\n",
    "        self.bmab = bmab\n",
    "        self.budget = budget\n",
    "        \n",
    "        if rs is None:\n",
    "            self.seed = np.random.randint(2**32 - 1)\n",
    "            self.rs = np.random.RandomState(self.seed)\n",
    "        else:\n",
    "            self.rs = rs\n",
    "        \n",
    "        self.n_arms = self.bmab.n_arms\n",
    "        self.t = 0\n",
    "        self.n_pull = np.zeros(self.n_arms, dtype=int)\n",
    "        self.sum_payoffs = np.zeros(self.n_arms, dtype=float)\n",
    "        self.sum_costs = np.zeros(self.n_arms, dtype=float)\n",
    "        \n",
    "    def proceed(self):\n",
    "        pass\n",
    "    \n",
    "    def get_average_score(self):\n",
    "        average_payoff = np.sum(self.sum_payoffs) / self.t\n",
    "        average_cost = np.sum(self.sum_costs) / self.t\n",
    "        return average_payoff, average_cost\n",
    "        "
   ]
  },
  {
   "cell_type": "code",
   "execution_count": 5,
   "metadata": {
    "collapsed": true
   },
   "outputs": [],
   "source": [
    "seed = 123"
   ]
  },
  {
   "cell_type": "markdown",
   "metadata": {},
   "source": [
    "## 1. Budgeted Thompson Sampling"
   ]
  },
  {
   "cell_type": "code",
   "execution_count": 6,
   "metadata": {
    "collapsed": true
   },
   "outputs": [],
   "source": [
    "class BudgetedThompsonSampling(Policy):\n",
    "    \"\"\"\n",
    "    Implement the Thompson-Sampling policy.\n",
    "    \n",
    "    * payoff_priors: prior distributions of the rewards of arms\n",
    "    * cost_priors: prior distributions of the costs of arms\n",
    "    * payoff_update_func: function that updates payoff prior distributions\n",
    "    * cost_update_func: function that updates cost prior distributions\n",
    "    \"\"\"\n",
    "    def __init__(self, bmab, budget, payoff_priors, cost_priors, payoff_update_func, cost_update_func, rs=None):\n",
    "        super().__init__(bmab, budget, rs)\n",
    "        \n",
    "        if len(payoff_priors) != bmab.n_arms or len(cost_priors) != bmab.n_arms:\n",
    "            raise ValueError\n",
    "        \n",
    "        self.payoff_priors = copy.deepcopy(payoff_priors)\n",
    "        self.cost_priors = copy.deepcopy(cost_priors)\n",
    "        self.payoff_update_func = payoff_update_func\n",
    "        self.cost_update_func = cost_update_func\n",
    "        \n",
    "    def update_priors(self, arm, payoff, cost):\n",
    "        self.payoff_priors = self.payoff_update_func(self.payoff_priors, arm, payoff)\n",
    "        self.cost_priors = self.cost_update_func(self.cost_priors, arm, cost)\n",
    "        \n",
    "    def proceed(self):\n",
    "        if self.budget <= 0:\n",
    "            raise ValueError(\"Budget runs out\")\n",
    "            \n",
    "        # choose an arm\n",
    "        rates = np.empty(self.n_arms)\n",
    "        for a in range(self.n_arms):\n",
    "            p = self.payoff_priors[a].rvs(random_state=self.rs)\n",
    "            c = self.cost_priors[a].rvs(random_state=self.rs)\n",
    "            rates[a] = p / c\n",
    "        \n",
    "        arm = int(np.argmax(rates))\n",
    "        \n",
    "        p, c = self.bmab.pull_arm(arm)\n",
    "        self.n_pull[arm] += 1\n",
    "        self.sum_payoffs[arm] += p\n",
    "        self.sum_costs[arm] += c\n",
    "        self.update_priors(arm, p, c)\n",
    "        self.budget -= c\n",
    "        self.t += 1\n",
    "        "
   ]
  },
  {
   "cell_type": "markdown",
   "metadata": {},
   "source": [
    "For consistency, non-optimal arms should be pulled at least $O(\\log t)$ times by $t$ period"
   ]
  },
  {
   "cell_type": "code",
   "execution_count": 7,
   "metadata": {
    "scrolled": false
   },
   "outputs": [
    {
     "name": "stdout",
     "output_type": "stream",
     "text": [
      "t: 1, n_arms: [1 0 0], mean_payoff: 0.000, mean_cost: 1.000\n",
      "t: 11, n_arms: [2 4 5], mean_payoff: 0.091, mean_cost: 0.818\n",
      "t: 21, n_arms: [5 7 9], mean_payoff: 0.095, mean_cost: 0.810\n",
      "t: 31, n_arms: [12  9 10], mean_payoff: 0.129, mean_cost: 0.742\n",
      "t: 41, n_arms: [13 16 12], mean_payoff: 0.146, mean_cost: 0.659\n",
      "t: 51, n_arms: [14 24 13], mean_payoff: 0.216, mean_cost: 0.647\n",
      "t: 61, n_arms: [14 33 14], mean_payoff: 0.262, mean_cost: 0.656\n",
      "t: 71, n_arms: [14 43 14], mean_payoff: 0.324, mean_cost: 0.620\n",
      "t: 81, n_arms: [15 52 14], mean_payoff: 0.321, mean_cost: 0.568\n",
      "t: 91, n_arms: [15 62 14], mean_payoff: 0.352, mean_cost: 0.571\n",
      "t: 101, n_arms: [15 72 14], mean_payoff: 0.386, mean_cost: 0.554\n",
      "t: 111, n_arms: [15 82 14], mean_payoff: 0.405, mean_cost: 0.550\n",
      "t: 121, n_arms: [15 92 14], mean_payoff: 0.421, mean_cost: 0.537\n",
      "t: 131, n_arms: [ 15 102  14], mean_payoff: 0.427, mean_cost: 0.534\n",
      "t: 141, n_arms: [ 15 112  14], mean_payoff: 0.433, mean_cost: 0.539\n",
      "t: 151, n_arms: [ 15 122  14], mean_payoff: 0.430, mean_cost: 0.530\n",
      "t: 161, n_arms: [ 15 132  14], mean_payoff: 0.429, mean_cost: 0.534\n",
      "t: 171, n_arms: [ 15 142  14], mean_payoff: 0.444, mean_cost: 0.515\n",
      "t: 181, n_arms: [ 15 152  14], mean_payoff: 0.470, mean_cost: 0.519\n",
      "t: 191, n_arms: [ 15 162  14], mean_payoff: 0.476, mean_cost: 0.518\n"
     ]
    }
   ],
   "source": [
    "budget = 100\n",
    "payoff_priors = [st.beta(1, 1) for i in range(n_arms)]\n",
    "cost_priors = [st.beta(1, 1) for i in range(n_arms)]\n",
    "max_expected_payoff_per_cost = 1.0\n",
    "rs = np.random.RandomState(seed)\n",
    "bmab = BMAB(n_arms, payoff_dists, cost_dists, rs=rs)\n",
    "\n",
    "def update_priors(priors, arm, p):\n",
    "    if p == 1:\n",
    "        a = priors[arm].args[0] + 1\n",
    "        b = priors[arm].args[1]\n",
    "    elif p == 0:\n",
    "        a = priors[arm].args[0]\n",
    "        b = priors[arm].args[1] + 1\n",
    "    else:\n",
    "        raise ValueError\n",
    "    \n",
    "    priors[arm].args = (a, b)\n",
    "    return priors\n",
    "\n",
    "\n",
    "thompson = BudgetedThompsonSampling(\n",
    "    bmab, budget, payoff_priors, cost_priors, update_priors, update_priors, rs=rs)\n",
    "\n",
    "while True:\n",
    "    if thompson.budget <= 0:\n",
    "        break\n",
    "    \n",
    "    thompson.proceed()\n",
    "    p, c = thompson.get_average_score()\n",
    "    \n",
    "    if thompson.t % 10 == 1:\n",
    "        print(\n",
    "            \"t: {}, n_arms: {}, mean_payoff: {:.3f}, mean_cost: {:.3f}\"\n",
    "            .format(thompson.t, thompson.n_pull, p, c)\n",
    "        )\n",
    "        "
   ]
  },
  {
   "cell_type": "code",
   "execution_count": 14,
   "metadata": {},
   "outputs": [],
   "source": [
    "budget = 500\n",
    "size = 20\n",
    "rs = np.random.RandomState(seed)\n",
    "bmab = BMAB(n_arms, payoff_dists, cost_dists, rs=rs)\n",
    "\n",
    "rewards = np.zeros(size)\n",
    "ts_lengths = np.zeros(size)\n",
    "\n",
    "for i in range(size):\n",
    "    budgeted_thompson = BudgetedThompsonSampling(\n",
    "        bmab, budget, payoff_priors, cost_priors, update_priors, update_priors, rs=rs)\n",
    "    \n",
    "    while budgeted_thompson.budget > 0:\n",
    "        budgeted_thompson.proceed()\n",
    "\n",
    "    p, c = budgeted_thompson.get_average_score()\n",
    "    rewards[i] = p\n",
    "    ts_lengths[i] = budgeted_thompson.t\n",
    "\n",
    "mean_rewards = np.mean(rewards * ts_lengths)\n",
    "mean_regrets = budget - mean_rewards # optimal arm: payoff 0.5 per cost 0.5\n",
    "mean_ts_length = np.mean(ts_lengths)"
   ]
  },
  {
   "cell_type": "code",
   "execution_count": 15,
   "metadata": {},
   "outputs": [
    {
     "name": "stdout",
     "output_type": "stream",
     "text": [
      "484.8 15.2 236.746975178 1009.75\n"
     ]
    }
   ],
   "source": [
    "upper_bound_regret = 0\n",
    "for a in range(n_arms):\n",
    "    r = expected_payoffs[a] / expected_costs[a]\n",
    "    diff = 1.0 - r\n",
    "    \n",
    "    # if not optimal arm\n",
    "    if np.abs(diff) > 1e-3:\n",
    "        d = expected_costs[a] * diff # gamma = 1\n",
    "        upper_bound_regret += 8 * np.log(budget) / d\n",
    "\n",
    "print(mean_rewards, mean_regrets, upper_bound_regret, mean_ts_length)"
   ]
  },
  {
   "cell_type": "code",
   "execution_count": null,
   "metadata": {
    "collapsed": true
   },
   "outputs": [],
   "source": []
  }
 ],
 "metadata": {
  "kernelspec": {
   "display_name": "Python 3",
   "language": "python",
   "name": "python3"
  },
  "language_info": {
   "codemirror_mode": {
    "name": "ipython",
    "version": 3
   },
   "file_extension": ".py",
   "mimetype": "text/x-python",
   "name": "python",
   "nbconvert_exporter": "python",
   "pygments_lexer": "ipython3",
   "version": "3.6.3"
  }
 },
 "nbformat": 4,
 "nbformat_minor": 2
}
